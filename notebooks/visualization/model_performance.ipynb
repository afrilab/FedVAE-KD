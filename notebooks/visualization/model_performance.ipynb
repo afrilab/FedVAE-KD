{
 "cells": [
  {
   "cell_type": "markdown",
   "metadata": {},
   "source": [
    "# Model Performance Visualization\n",
    "\n",
    "This notebook visualizes the performance of the FedVAE-KD framework."
   ]
  },
  {
   "cell_type": "code",
   "execution_count": null,
   "metadata": {},
   "outputs": [],
   "source": [
    "import matplotlib.pyplot as plt\n",
    "import seaborn as sns\n",
    "import pandas as pd\n",
    "import numpy as np\n",
    "\n",
    "# Set style for better-looking plots\n",
    "plt.style.use('seaborn-v0_8')\n",
    "sns.set_palette(\"husl\")"
   ]
  },
  {
   "cell_type": "markdown",
   "metadata": {},
   "source": [
    "## Generate Sample Performance Data"
   ]
  },
  {
   "cell_type": "code",
   "execution_count": null,
   "metadata": {},
   "outputs": [],
   "source": [
    "# Generate sample performance data\n",
    "np.random.seed(42)\n",
    "\n",
    "# Simulate training history\n",
    "epochs = range(1, 51)\n",
    "centralized_accuracy = 0.7 + 0.25 * (1 - np.exp(-np.array(epochs) / 15)) + np.random.normal(0, 0.02, len(epochs))\n",
    "federated_accuracy = 0.65 + 0.3 * (1 - np.exp(-np.array(epochs) / 20)) + np.random.normal(0, 0.03, len(epochs))\n",
    "\n",
    "# Ensure accuracies don't go above 1.0\n",
    "centralized_accuracy = np.clip(centralized_accuracy, 0, 1)\n",
    "federated_accuracy = np.clip(federated_accuracy, 0, 1)\n",
    "\n",
    "# Create DataFrame\n",
    "performance_data = pd.DataFrame({\n",
    "    'Epoch': epochs,\n",
    "    'Centralized': centralized_accuracy,\n",
    "    'Federated': federated_accuracy\n",
    "})"
   ]
  },
  {
   "cell_type": "markdown",
   "metadata": {},
   "source": [
    "## Plot Training Progress"
   ]
  },
  {
   "cell_type": "code",
   "execution_count": null,
   "metadata": {},
   "outputs": [],
   "source": [
    "# Plot training progress\n",
    "plt.figure(figsize=(12, 6))\n",
    "\n",
    "plt.subplot(1, 2, 1)\n",
    "plt.plot(epochs, centralized_accuracy, label='Centralized', linewidth=2)\n",
    "plt.plot(epochs, federated_accuracy, label='Federated', linewidth=2)\n",
    "plt.xlabel('Epoch')\n",
    "plt.ylabel('Accuracy')\n",
    "plt.title('Training Progress Comparison')\n",
    "plt.legend()\n",
    "plt.grid(True, alpha=0.3)\n",
    "\n",
    "plt.subplot(1, 2, 2)\n",
    "plt.plot(epochs, centralized_accuracy - federated_accuracy, color='purple', linewidth=2)\n",
    "plt.xlabel('Epoch')\n",
    "plt.ylabel('Accuracy Difference')\n",
    "plt.title('Centralized vs Federated Performance Gap')\n",
    "plt.grid(True, alpha=0.3)\n",
    "\n",
    "plt.tight_layout()\n",
    "plt.show()"
   ]
  },
  {
   "cell_type": "markdown",
   "metadata": {},
   "source": [
    "## Compare Final Performance"
   ]
  },
  {
   "cell_type": "code",
   "execution_count": null,
   "metadata": {},
   "outputs": [],
   "source": [
    "# Compare final performance\n",
    "final_centralized = centralized_accuracy[-1]\n",
    "final_federated = federated_accuracy[-1]\n",
    "\n",
    "methods = ['Centralized', 'Federated']\n",
    "accuracies = [final_centralized, final_federated]\n",
    "\n",
    "plt.figure(figsize=(8, 6))\n",
    "bars = plt.bar(methods, accuracies, color=['skyblue', 'lightcoral'])\n",
    "plt.ylabel('Final Accuracy')\n",
    "plt.title('Final Performance Comparison')\n",
    "plt.ylim(0, 1)\n",
    "\n",
    "# Add value labels on bars\n",
    "for bar, acc in zip(bars, accuracies):\n",
    "    plt.text(bar.get_x() + bar.get_width()/2, bar.get_height() + 0.01, \n",
    "             f'{acc:.3f}', ha='center', va='bottom')\n",
    "\n",
    "plt.grid(axis='y', alpha=0.3)\n",
    "plt.show()"
   ]
  },
  {
   "cell_type": "markdown",
   "metadata": {},
   "source": [
    "## Privacy vs Performance Trade-off"
   ]
  },
  {
   "cell_type": "code",
   "execution_count": null,
   "metadata": {},
   "outputs": [],
   "source": [
    "# Simulate privacy vs performance trade-off\n",
    "privacy_levels = ['None', 'Low', 'Medium', 'High', 'Very High']\n",
    "performance_scores = [0.92, 0.88, 0.85, 0.80, 0.75]\n",
    "privacy_scores = [0.1, 0.3, 0.5, 0.8, 0.95]\n",
    "\n",
    "fig, ax1 = plt.subplots(figsize=(10, 6))\n",
    "\n",
    "color = 'tab:blue'\n",
    "ax1.set_xlabel('Privacy Level')\n",
    "ax1.set_ylabel('Performance Score', color=color)\n",
    "bars1 = ax1.bar(privacy_levels, performance_scores, color=color, alpha=0.7, label='Performance')\n",
    "ax1.tick_params(axis='y', labelcolor=color)\n",
    "ax1.set_ylim(0, 1)\n",
    "\n",
    "ax2 = ax1.twinx()\n",
    "color = 'tab:red'\n",
    "ax2.set_ylabel('Privacy Score', color=color)\n",
    "bars2 = ax2.bar(privacy_levels, privacy_scores, color=color, alpha=0.7, label='Privacy')\n",
    "ax2.tick_params(axis='y', labelcolor=color)\n",
    "ax2.set_ylim(0, 1)\n",
    "\n",
    "plt.title('Privacy vs Performance Trade-off in FedVAE-KD')\n",
    "fig.tight_layout()\n",
    "plt.show()"
   ]
  },
  {
   "cell_type": "markdown",
   "metadata": {},
   "source": [
    "## Summary\n",
    "\n",
    "This notebook visualized various aspects of the FedVAE-KD framework:\n",
    "\n",
    "1. Training progress comparison between centralized and federated approaches\n",
    "2. Final performance comparison\n",
    "3. Privacy vs performance trade-off\n",
    "\n",
    "These visualizations help understand the benefits and trade-offs of using the FedVAE-KD framework for privacy-preserving federated learning in network intrusion detection."
   ]
  }
 ],
 "metadata": {
  "kernelspec": {
   "display_name": "Python 3",
   "language": "python",
   "name": "python3"
  },
  "language_info": {
   "codemirror_mode": {
    "name": "ipython",
    "version": 3
   },
   "file_extension": ".py",
   "mimetype": "text/x-python",
   "name": "python",
   "nbconvert_exporter": "python",
   "pygments_lexer": "ipython3",
   "version": "3.8.0"
  }
 },
 "nbformat": 4,
 "nbformat_minor": 4
}