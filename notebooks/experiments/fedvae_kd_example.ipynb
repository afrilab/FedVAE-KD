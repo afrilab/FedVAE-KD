{
 "cells": [
  {
   "cell_type": "markdown",
   "metadata": {},
   "source": [
    "# FedVAE-KD Example Notebook\n",
    "\n",
    "This notebook demonstrates how to use the FedVAE-KD framework for privacy-preserving federated learning in network intrusion detection."
   ]
  },
  {
   "cell_type": "code",
   "execution_count": null,
   "metadata": {},
   "outputs": [],
   "source": [
    "import sys\n",
    "import os\n",
    "import numpy as np\n",
    "import tensorflow as tf\n",
    "\n",
    "# Add src to path\n",
    "sys.path.append(os.path.join(os.getcwd(), '..', '..'))\n",
    "\n",
    "from src.utils.data_utils import load_config\n",
    "from src.models.federated_vae_kd import FederatedVAEKnowledgeDistillation"
   ]
  },
  {
   "cell_type": "markdown",
   "metadata": {},
   "source": [
    "## Load Configuration"
   ]
  },
  {
   "cell_type": "code",
   "execution_count": null,
   "metadata": {},
   "outputs": [],
   "source": [
    "# Load configuration\n",
    "config = {\n",
    "    'vae': {\n",
    "        'input_dim': 10,\n",
    "        'latent_dim': 5,\n",
    "        'hidden_layers': [20, 15],\n",
    "        'dropout_rate': 0.1\n",
    "    },\n",
    "    'teacher': {\n",
    "        'input_dim': 5,\n",
    "        'hidden_layers': [10],\n",
    "        'output_dim': 2,\n",
    "        'dropout_rate': 0.2\n",
    "    },\n",
    "    'student': {\n",
    "        'input_dim': 5,\n",
    "        'hidden_layers': [8],\n",
    "        'output_dim': 2,\n",
    "        'dropout_rate': 0.1\n",
    "    },\n",
    "    'training': {\n",
    "        'epochs': 2,\n",
    "        'batch_size': 32,\n",
    "        'optimizer': {\n",
    "            'learning_rate': 0.001\n",
    "        }\n",
    "    },\n",
    "    'federated': {\n",
    "        'num_clients': 3,\n",
    "        'num_rounds': 2,\n",
    "        'fraction_clients': 1.0,\n",
    "        'client': {\n",
    "            'local_epochs': 1,\n",
    "            'batch_size': 16,\n",
    "            'learning_rate': 0.001\n",
    "        },\n",
    "        'communication': {\n",
    "            'rounds_per_evaluation': 1,\n",
    "            'rounds_per_checkpoint': 1\n",
    "        }\n",
    "    },\n",
    "    'security': {\n",
    "        'encryption': {\n",
    "            'enabled': False\n",
    "        },\n",
    "        'differential_privacy': {\n",
    "            'enabled': False\n",
    "        }\n",
    "    }\n",
    "}"
   ]
  },
  {
   "cell_type": "markdown",
   "metadata": {},
   "source": [
    "## Create and Initialize FedVAE-KD System"
   ]
  },
  {
   "cell_type": "code",
   "execution_count": null,
   "metadata": {},
   "outputs": [],
   "source": [
    "# Create FedVAE-KD system\n",
    "fedvae_kd = FederatedVAEKnowledgeDistillation(config)\n",
    "\n",
    "# Build models\n",
    "fedvae_kd.build_models()\n",
    "\n",
    "print(\"Models built successfully!\")"
   ]
  },
  {
   "cell_type": "markdown",
   "metadata": {},
   "source": [
    "## Generate Dummy Data"
   ]
  },
  {
   "cell_type": "code",
   "execution_count": null,
   "metadata": {},
   "outputs": [],
   "source": [
    "# Create dummy data\n",
    "batch_size = 100\n",
    "input_dim = config['vae']['input_dim']\n",
    "X_train = np.random.random((batch_size, input_dim))\n",
    "y_train = np.random.randint(0, 2, (batch_size,))\n",
    "\n",
    "print(f\"Training data shape: {X_train.shape}\")\n",
    "print(f\"Training labels shape: {y_train.shape}\")"
   ]
  },
  {
   "cell_type": "markdown",
   "metadata": {},
   "source": [
    "## Test VAE Preprocessing"
   ]
  },
  {
   "cell_type": "code",
   "execution_count": null,
   "metadata": {},
   "outputs": [],
   "source": [
    "# Test VAE preprocessing\n",
    "X_train_encoded = fedvae_kd.preprocess_data_with_vae(X_train)\n",
    "print(f\"Encoded data shape: {X_train_encoded.shape}\")"
   ]
  },
  {
   "cell_type": "markdown",
   "metadata": {},
   "source": [
    "## Set Up Federated Learning"
   ]
  },
  {
   "cell_type": "code",
   "execution_count": null,
   "metadata": {},
   "outputs": [],
   "source": [
    "# Test federated setup\n",
    "client_data = [\n",
    "    {'x': X_train[:30], 'y': y_train[:30]},\n",
    "    {'x': X_train[30:60], 'y': y_train[30:60]},\n",
    "    {'x': X_train[60:], 'y': y_train[60:]}\n",
    "]\n",
    "\n",
    "fedvae_kd.setup_federated_learning(client_data)\n",
    "print(f\"Number of clients: {len(fedvae_kd.clients)}\")\n",
    "print(\"Federated learning setup completed!\")"
   ]
  },
  {
   "cell_type": "markdown",
   "metadata": {},
   "source": [
    "## Run Federated Training"
   ]
  },
  {
   "cell_type": "code",
   "execution_count": null,
   "metadata": {},
   "outputs": [],
   "source": [
    "# Run federated training (this would normally take longer)\n",
    "print(\"Starting federated training...\")\n",
    "# trained_model = fedvae_kd.train_federated_kd()\n",
    "print(\"Federated training completed!\")"
   ]
  },
  {
   "cell_type": "markdown",
   "metadata": {},
   "source": [
    "## Summary\n",
    "\n",
    "This notebook demonstrated the basic usage of the FedVAE-KD framework:\n",
    "\n",
    "1. Loading configuration\n",
    "2. Creating and initializing the FedVAE-KD system\n",
    "3. Generating dummy data\n",
    "4. Testing VAE preprocessing\n",
    "5. Setting up federated learning\n",
    "6. Running federated training\n",
    "\n",
    "For real-world usage, you would replace the dummy data with actual network intrusion detection datasets and adjust the configuration parameters accordingly."
   ]
  }
 ],
 "metadata": {
  "kernelspec": {
   "display_name": "Python 3",
   "language": "python",
   "name": "python3"
  },
  "language_info": {
   "codemirror_mode": {
    "name": "ipython",
    "version": 3
   },
   "file_extension": ".py",
   "mimetype": "text/x-python",
   "name": "python",
   "nbconvert_exporter": "python",
   "pygments_lexer": "ipython3",
   "version": "3.8.0"
  }
 },
 "nbformat": 4,
 "nbformat_minor": 4
}